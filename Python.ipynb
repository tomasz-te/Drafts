{
  "nbformat": 4,
  "nbformat_minor": 0,
  "metadata": {
    "colab": {
      "name": "Python.ipynb",
      "provenance": [],
      "collapsed_sections": [],
      "authorship_tag": "ABX9TyPalU6xmfQHUDmVugRF+BOg"
    },
    "kernelspec": {
      "name": "python3",
      "display_name": "Python 3"
    },
    "language_info": {
      "name": "python"
    }
  },
  "cells": [
    {
      "cell_type": "code",
      "execution_count": 1,
      "metadata": {
        "id": "foDWkjiBvrT8"
      },
      "outputs": [],
      "source": [
        "# Question 1:\n",
        "#- Write a function that reverses the string.\n",
        "#- sentence = “I love programming in Python. How about you?”"
      ]
    },
    {
      "cell_type": "code",
      "source": [
        "def reverse(string):\n",
        "    rev_str = ''\n",
        "    for i in range(len(string)-1, -1, -1):\n",
        "        rev_str += string[i]\n",
        "    return rev_str\n",
        "str = 'I love programming in Python. How about you?'\n",
        "reverse(str)"
      ],
      "metadata": {
        "colab": {
          "base_uri": "https://localhost:8080/",
          "height": 35
        },
        "id": "B1iSKfEzyLiz",
        "outputId": "c1788a0e-dc98-456e-89ec-ff7051e65f51"
      },
      "execution_count": 7,
      "outputs": [
        {
          "output_type": "execute_result",
          "data": {
            "text/plain": [
              "'?uoy tuoba woH .nohtyP ni gnimmargorp evol I'"
            ],
            "application/vnd.google.colaboratory.intrinsic+json": {
              "type": "string"
            }
          },
          "metadata": {},
          "execution_count": 7
        }
      ]
    },
    {
      "cell_type": "code",
      "source": [
        "def reverse(string):\n",
        "    return string[::-1]\n",
        "reverse('I love programming in Python. How about you?')"
      ],
      "metadata": {
        "colab": {
          "base_uri": "https://localhost:8080/",
          "height": 35
        },
        "id": "gx-o9eG8ypI7",
        "outputId": "2247b5e3-446e-4c94-fa1d-b0b76b9505a5"
      },
      "execution_count": 10,
      "outputs": [
        {
          "output_type": "execute_result",
          "data": {
            "text/plain": [
              "'?uoy tuoba woH .nohtyP ni gnimmargorp evol I'"
            ],
            "application/vnd.google.colaboratory.intrinsic+json": {
              "type": "string"
            }
          },
          "metadata": {},
          "execution_count": 10
        }
      ]
    },
    {
      "cell_type": "code",
      "source": [
        "def reverse(string):\n",
        "    return ''.join(string[-i] for i in range(1,len(string)+1))\n",
        "reverse(str)"
      ],
      "metadata": {
        "colab": {
          "base_uri": "https://localhost:8080/",
          "height": 35
        },
        "id": "40VMdyppzkh0",
        "outputId": "606156cd-50a5-42fa-d790-f6cc502b25fb"
      },
      "execution_count": 17,
      "outputs": [
        {
          "output_type": "execute_result",
          "data": {
            "text/plain": [
              "'?uoy tuoba woH .nohtyP ni gnimmargorp evol I'"
            ],
            "application/vnd.google.colaboratory.intrinsic+json": {
              "type": "string"
            }
          },
          "metadata": {},
          "execution_count": 17
        }
      ]
    },
    {
      "cell_type": "markdown",
      "source": [
        "Question 2: Fibonacci Number\n",
        "\n",
        "The Fibonacci numbers, commonly denoted F(n) form a sequence, called the Fibonacci sequence, such that each number is the sum of the two preceding ones, starting from 0 and 1.\n",
        "That is,\n",
        "\n",
        "F(0) = 0, F(1) = 1,\n",
        "\n",
        "F(n) = F(n -1) + F(n-2), for n > 1.\n",
        "\n",
        "Given n, calculate F(n)."
      ],
      "metadata": {
        "id": "eEShhWTz3KN6"
      }
    },
    {
      "cell_type": "code",
      "source": [
        "#Brutal Force\n",
        "def F(n):\n",
        "    if n == 0:\n",
        "        return 0\n",
        "    elif n == 1:\n",
        "        return 1\n",
        "    else:\n",
        "        sum = 0\n",
        "        last = 1\n",
        "        for i in range(1,n+1):\n",
        "            temp = sum\n",
        "            sum += last\n",
        "            last = temp\n",
        "        return sum\n",
        "for i in range(0,10):\n",
        "    print(F(i))"
      ],
      "metadata": {
        "colab": {
          "base_uri": "https://localhost:8080/"
        },
        "id": "tANL16-b3UhC",
        "outputId": "d257ab88-7086-496f-efca-dd574f6fa2b8"
      },
      "execution_count": 28,
      "outputs": [
        {
          "output_type": "stream",
          "name": "stdout",
          "text": [
            "0\n",
            "1\n",
            "1\n",
            "2\n",
            "3\n",
            "5\n",
            "8\n",
            "13\n",
            "21\n",
            "34\n"
          ]
        }
      ]
    },
    {
      "cell_type": "code",
      "source": [
        "# Recursion\n",
        "def F(n):\n",
        "    if n < 2:\n",
        "        return n\n",
        "    else:\n",
        "        return F(n-1) + F(n-2)\n",
        "\n",
        "for i in range(0,10):\n",
        "    print(F(i))"
      ],
      "metadata": {
        "colab": {
          "base_uri": "https://localhost:8080/"
        },
        "id": "qZSizQX543M7",
        "outputId": "ec2d4381-21e5-4684-f5a6-ab6d848841b4"
      },
      "execution_count": 29,
      "outputs": [
        {
          "output_type": "stream",
          "name": "stdout",
          "text": [
            "0\n",
            "1\n",
            "1\n",
            "2\n",
            "3\n",
            "5\n",
            "8\n",
            "13\n",
            "21\n",
            "34\n"
          ]
        }
      ]
    },
    {
      "cell_type": "markdown",
      "source": [
        "Question 3: Check If Two String Arrays are Equivalent, by Facebook\n",
        "- Given two string arrays word1 and word2, return true if the two arrays represent the same string, and false otherwise.\n",
        "- A string is represented by an array if the array elements concatenated in order forms the string."
      ],
      "metadata": {
        "id": "mhzW6ctE6gNL"
      }
    },
    {
      "cell_type": "code",
      "source": [
        "def equality_check(str1, str2):\n",
        "    return ''.join(str1) == ''.join(str2)\n",
        "word1 = ['a', 'bc']\n",
        "word2 = ['ab', 'c']\n",
        "equality_check(word1, word2)"
      ],
      "metadata": {
        "colab": {
          "base_uri": "https://localhost:8080/"
        },
        "id": "PHSnqSEG6mCF",
        "outputId": "7ac5c390-24e1-4ec7-92d0-bc1791de56e6"
      },
      "execution_count": 37,
      "outputs": [
        {
          "output_type": "execute_result",
          "data": {
            "text/plain": [
              "True"
            ]
          },
          "metadata": {},
          "execution_count": 37
        }
      ]
    },
    {
      "cell_type": "markdown",
      "source": [
        "Question 4: Matrix Diagonal Sum, by Adobe\n",
        "- Given a square matrix mat, return the sum of the matrix diagonals.\n",
        "- Only include the sum of all the elements on the primary diagonal and all the elements on the secondary diagonal that are not part of the primary diagonal."
      ],
      "metadata": {
        "id": "v1zOBjF17zU6"
      }
    },
    {
      "cell_type": "code",
      "source": [
        "# Generate some matrix\n",
        "import random\n",
        "\n",
        "def matrix_generator(n):\n",
        "    matrix = [[] for i in range(n)]\n",
        "    for i in range(0,n):\n",
        "        for j in range(0,n):\n",
        "            matrix[i].append(random.randint(0, 9))\n",
        "    return matrix\n",
        "\n",
        "def diagonal_sum(matrix):\n",
        "    n = len(matrix)\n",
        "    sum = 0\n",
        "    for i in range(n):\n",
        "        sum += matrix[i][i]\n",
        "        sum += matrix[i][n-1-i]\n",
        "    if n % 2 == 1:\n",
        "        sum -= matrix[int((n-1)/2)][int((n-1)/2)]\n",
        "    return sum\n",
        "\n",
        "n=3\n",
        "matrix = matrix_generator(n)\n",
        "for i in range(n):\n",
        "    print(matrix[i])\n",
        "\n",
        "diagonal_sum(matrix)"
      ],
      "metadata": {
        "colab": {
          "base_uri": "https://localhost:8080/"
        },
        "id": "mZiUHDny63e7",
        "outputId": "d2384fa2-8b09-4ea4-9e96-8c7cfa8c8034"
      },
      "execution_count": 67,
      "outputs": [
        {
          "output_type": "stream",
          "name": "stdout",
          "text": [
            "[4, 8, 6]\n",
            "[9, 1, 4]\n",
            "[1, 8, 5]\n"
          ]
        },
        {
          "output_type": "execute_result",
          "data": {
            "text/plain": [
              "17"
            ]
          },
          "metadata": {},
          "execution_count": 67
        }
      ]
    },
    {
      "cell_type": "markdown",
      "source": [
        "Question 5: Final Prices With a Special Discount in a Shop\n",
        "- Given the array prices where prices[i] is the price of the ith item in a shop.\n",
        "- There is a special discount for items in the shop, if you buy the ith item, then you will receive a discount equivalent to prices[j] where j is the minimum index such that j > i and prices[j] <= prices[i], otherwise, you will not receive any discount at all.\n",
        "- Return an array where the ith element is the final price you will pay for the ith item of the shop considering the special discount."
      ],
      "metadata": {
        "id": "bcYM54XFE_S0"
      }
    },
    {
      "cell_type": "code",
      "source": [
        "import random\n",
        "\n",
        "prices = []\n",
        "\n",
        "n = 5\n",
        "\n",
        "for i in range(n):\n",
        "    prices.append(round(random.random()*100,2))\n",
        "\n",
        "def discount(list):\n",
        "    discounted = []\n",
        "    for i in range(len(prices)):\n",
        "        for j in range (i+1, len(prices)):\n",
        "            if prices[j] < prices[i]:\n",
        "                discounted.append(round(prices[i] - prices[j],2))\n",
        "                break\n",
        "            elif j == len(prices)-1:\n",
        "                discounted.append(prices[i])\n",
        "    discounted.append(prices[-1])\n",
        "    return discounted  \n",
        "\n",
        "print(prices)\n",
        "print(discount(prices))\n",
        "\n",
        "\n",
        "    "
      ],
      "metadata": {
        "colab": {
          "base_uri": "https://localhost:8080/"
        },
        "id": "DI332xoN812_",
        "outputId": "6033322d-48f4-4ee7-c64d-0e28bdc45cb4"
      },
      "execution_count": 82,
      "outputs": [
        {
          "output_type": "stream",
          "name": "stdout",
          "text": [
            "[27.41, 64.68, 47.06, 79.77, 27.38]\n",
            "[0.03, 17.62, 19.68, 52.39, 27.38]\n"
          ]
        }
      ]
    },
    {
      "cell_type": "markdown",
      "source": [
        "Question 6: Reverse Words in a String III, by Amazon\n",
        "- Given a string, you need to reverse the order of characters in each word within a sentence while still preserving whitespace and initial word order."
      ],
      "metadata": {
        "id": "YHI1AyFmNvAW"
      }
    },
    {
      "cell_type": "code",
      "source": [
        "def reverse(sentence):\n",
        "    word_list = sentence.split(' ')\n",
        "    rev_word_list = []\n",
        "    for word in word_list:\n",
        "        rev_word_list.append(word[::-1])\n",
        "    return ' '.join(rev_word_list)\n",
        "\n",
        "sntnc = 'This is the sentence'\n",
        "reverse(sntnc)"
      ],
      "metadata": {
        "colab": {
          "base_uri": "https://localhost:8080/",
          "height": 35
        },
        "id": "0FWcnkRBFhTs",
        "outputId": "6cfd3181-4bf5-4471-f83a-774c0a945c41"
      },
      "execution_count": 88,
      "outputs": [
        {
          "output_type": "execute_result",
          "data": {
            "text/plain": [
              "'sihT si eht ecnetnes'"
            ],
            "application/vnd.google.colaboratory.intrinsic+json": {
              "type": "string"
            }
          },
          "metadata": {},
          "execution_count": 88
        }
      ]
    },
    {
      "cell_type": "code",
      "source": [
        ""
      ],
      "metadata": {
        "id": "gbAL2wNYOsBc"
      },
      "execution_count": null,
      "outputs": []
    }
  ]
}