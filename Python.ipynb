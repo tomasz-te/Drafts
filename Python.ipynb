{
  "nbformat": 4,
  "nbformat_minor": 0,
  "metadata": {
    "colab": {
      "name": "Python.ipynb",
      "provenance": [],
      "authorship_tag": "ABX9TyPN4mLTFf80KoCDpjG9Q+po"
    },
    "kernelspec": {
      "name": "python3",
      "display_name": "Python 3"
    },
    "language_info": {
      "name": "python"
    }
  },
  "cells": [
    {
      "cell_type": "code",
      "execution_count": 1,
      "metadata": {
        "id": "foDWkjiBvrT8"
      },
      "outputs": [],
      "source": [
        "# Question 1:\n",
        "#- Write a function that reverses the string.\n",
        "#- sentence = “I love programming in Python. How about you?”"
      ]
    },
    {
      "cell_type": "code",
      "source": [
        "def reverse(string):\n",
        "    rev_str = ''\n",
        "    for i in range(len(string)-1, -1, -1):\n",
        "        rev_str += string[i]\n",
        "    return rev_str\n",
        "str = 'I love programming in Python. How about you?'\n",
        "reverse(str)"
      ],
      "metadata": {
        "colab": {
          "base_uri": "https://localhost:8080/",
          "height": 35
        },
        "id": "B1iSKfEzyLiz",
        "outputId": "c1788a0e-dc98-456e-89ec-ff7051e65f51"
      },
      "execution_count": 7,
      "outputs": [
        {
          "output_type": "execute_result",
          "data": {
            "text/plain": [
              "'?uoy tuoba woH .nohtyP ni gnimmargorp evol I'"
            ],
            "application/vnd.google.colaboratory.intrinsic+json": {
              "type": "string"
            }
          },
          "metadata": {},
          "execution_count": 7
        }
      ]
    },
    {
      "cell_type": "code",
      "source": [
        ""
      ],
      "metadata": {
        "id": "gx-o9eG8ypI7"
      },
      "execution_count": null,
      "outputs": []
    }
  ]
}