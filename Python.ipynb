{
  "nbformat": 4,
  "nbformat_minor": 0,
  "metadata": {
    "colab": {
      "name": "Python.ipynb",
      "provenance": [],
      "collapsed_sections": [],
      "authorship_tag": "ABX9TyOcSwrzbleXp14B7Ljzt7wk"
    },
    "kernelspec": {
      "name": "python3",
      "display_name": "Python 3"
    },
    "language_info": {
      "name": "python"
    }
  },
  "cells": [
    {
      "cell_type": "code",
      "execution_count": 1,
      "metadata": {
        "id": "foDWkjiBvrT8"
      },
      "outputs": [],
      "source": [
        "# Question 1:\n",
        "#- Write a function that reverses the string.\n",
        "#- sentence = “I love programming in Python. How about you?”"
      ]
    },
    {
      "cell_type": "code",
      "source": [
        "def reverse(string):\n",
        "    rev_str = ''\n",
        "    for i in range(len(string)-1, -1, -1):\n",
        "        rev_str += string[i]\n",
        "    return rev_str\n",
        "str = 'I love programming in Python. How about you?'\n",
        "reverse(str)"
      ],
      "metadata": {
        "colab": {
          "base_uri": "https://localhost:8080/",
          "height": 35
        },
        "id": "B1iSKfEzyLiz",
        "outputId": "d84a445e-4d10-4aa7-d8ec-232d521836cd"
      },
      "execution_count": 2,
      "outputs": [
        {
          "output_type": "execute_result",
          "data": {
            "text/plain": [
              "'?uoy tuoba woH .nohtyP ni gnimmargorp evol I'"
            ],
            "application/vnd.google.colaboratory.intrinsic+json": {
              "type": "string"
            }
          },
          "metadata": {},
          "execution_count": 2
        }
      ]
    },
    {
      "cell_type": "code",
      "source": [
        "def reverse(string):\n",
        "    return string[::-1]\n",
        "reverse('I love programming in Python. How about you?')"
      ],
      "metadata": {
        "colab": {
          "base_uri": "https://localhost:8080/",
          "height": 35
        },
        "id": "gx-o9eG8ypI7",
        "outputId": "648f8277-eade-41b1-b2e1-858ac2cbd866"
      },
      "execution_count": 3,
      "outputs": [
        {
          "output_type": "execute_result",
          "data": {
            "text/plain": [
              "'?uoy tuoba woH .nohtyP ni gnimmargorp evol I'"
            ],
            "application/vnd.google.colaboratory.intrinsic+json": {
              "type": "string"
            }
          },
          "metadata": {},
          "execution_count": 3
        }
      ]
    },
    {
      "cell_type": "code",
      "source": [
        "def reverse(string):\n",
        "    return ''.join(string[-i] for i in range(1,len(string)+1))\n",
        "reverse(str)"
      ],
      "metadata": {
        "colab": {
          "base_uri": "https://localhost:8080/",
          "height": 35
        },
        "id": "40VMdyppzkh0",
        "outputId": "105f5f2d-4bb1-47e4-e18a-4ba615773cdf"
      },
      "execution_count": 4,
      "outputs": [
        {
          "output_type": "execute_result",
          "data": {
            "text/plain": [
              "'?uoy tuoba woH .nohtyP ni gnimmargorp evol I'"
            ],
            "application/vnd.google.colaboratory.intrinsic+json": {
              "type": "string"
            }
          },
          "metadata": {},
          "execution_count": 4
        }
      ]
    },
    {
      "cell_type": "markdown",
      "source": [
        "Question 2: Fibonacci Number\n",
        "\n",
        "The Fibonacci numbers, commonly denoted F(n) form a sequence, called the Fibonacci sequence, such that each number is the sum of the two preceding ones, starting from 0 and 1.\n",
        "That is,\n",
        "\n",
        "F(0) = 0, F(1) = 1,\n",
        "\n",
        "F(n) = F(n -1) + F(n-2), for n > 1.\n",
        "\n",
        "Given n, calculate F(n)."
      ],
      "metadata": {
        "id": "eEShhWTz3KN6"
      }
    },
    {
      "cell_type": "code",
      "source": [
        "#Brutal Force\n",
        "def F(n):\n",
        "    if n == 0:\n",
        "        return 0\n",
        "    elif n == 1:\n",
        "        return 1\n",
        "    else:\n",
        "        sum = 0\n",
        "        last = 1\n",
        "        for i in range(1,n+1):\n",
        "            temp = sum\n",
        "            sum += last\n",
        "            last = temp\n",
        "        return sum\n",
        "for i in range(0,10):\n",
        "    print(F(i))"
      ],
      "metadata": {
        "colab": {
          "base_uri": "https://localhost:8080/"
        },
        "id": "tANL16-b3UhC",
        "outputId": "7c0a82cf-ce6d-449d-b225-2702e8fe2b99"
      },
      "execution_count": 5,
      "outputs": [
        {
          "output_type": "stream",
          "name": "stdout",
          "text": [
            "0\n",
            "1\n",
            "1\n",
            "2\n",
            "3\n",
            "5\n",
            "8\n",
            "13\n",
            "21\n",
            "34\n"
          ]
        }
      ]
    },
    {
      "cell_type": "code",
      "source": [
        "# Recursion\n",
        "def F(n):\n",
        "    if n < 2:\n",
        "        return n\n",
        "    else:\n",
        "        return F(n-1) + F(n-2)\n",
        "\n",
        "for i in range(0,10):\n",
        "    print(F(i))"
      ],
      "metadata": {
        "colab": {
          "base_uri": "https://localhost:8080/"
        },
        "id": "qZSizQX543M7",
        "outputId": "4a1ea7e2-b1fc-4bd7-e867-1983ff77656b"
      },
      "execution_count": 6,
      "outputs": [
        {
          "output_type": "stream",
          "name": "stdout",
          "text": [
            "0\n",
            "1\n",
            "1\n",
            "2\n",
            "3\n",
            "5\n",
            "8\n",
            "13\n",
            "21\n",
            "34\n"
          ]
        }
      ]
    },
    {
      "cell_type": "markdown",
      "source": [
        "Question 3: Check If Two String Arrays are Equivalent, by Facebook\n",
        "- Given two string arrays word1 and word2, return true if the two arrays represent the same string, and false otherwise.\n",
        "- A string is represented by an array if the array elements concatenated in order forms the string."
      ],
      "metadata": {
        "id": "mhzW6ctE6gNL"
      }
    },
    {
      "cell_type": "code",
      "source": [
        "def equality_check(str1, str2):\n",
        "    return ''.join(str1) == ''.join(str2)\n",
        "word1 = ['a', 'bc']\n",
        "word2 = ['ab', 'c']\n",
        "equality_check(word1, word2)"
      ],
      "metadata": {
        "colab": {
          "base_uri": "https://localhost:8080/"
        },
        "id": "PHSnqSEG6mCF",
        "outputId": "6232726b-4089-4f6e-eac4-69363ff11e8e"
      },
      "execution_count": 7,
      "outputs": [
        {
          "output_type": "execute_result",
          "data": {
            "text/plain": [
              "True"
            ]
          },
          "metadata": {},
          "execution_count": 7
        }
      ]
    },
    {
      "cell_type": "markdown",
      "source": [
        "Question 4: Matrix Diagonal Sum, by Adobe\n",
        "- Given a square matrix mat, return the sum of the matrix diagonals.\n",
        "- Only include the sum of all the elements on the primary diagonal and all the elements on the secondary diagonal that are not part of the primary diagonal."
      ],
      "metadata": {
        "id": "v1zOBjF17zU6"
      }
    },
    {
      "cell_type": "code",
      "source": [
        "# Generate some matrix\n",
        "import random\n",
        "\n",
        "def matrix_generator(n):\n",
        "    matrix = [[] for i in range(n)]\n",
        "    for i in range(0,n):\n",
        "        for j in range(0,n):\n",
        "            matrix[i].append(random.randint(0, 9))\n",
        "    return matrix\n",
        "\n",
        "def diagonal_sum(matrix):\n",
        "    n = len(matrix)\n",
        "    sum = 0\n",
        "    for i in range(n):\n",
        "        sum += matrix[i][i]\n",
        "        sum += matrix[i][n-1-i]\n",
        "    if n % 2 == 1:\n",
        "        sum -= matrix[int((n-1)/2)][int((n-1)/2)]\n",
        "    return sum\n",
        "\n",
        "n=3\n",
        "matrix = matrix_generator(n)\n",
        "for i in range(n):\n",
        "    print(matrix[i])\n",
        "\n",
        "diagonal_sum(matrix)"
      ],
      "metadata": {
        "colab": {
          "base_uri": "https://localhost:8080/"
        },
        "id": "mZiUHDny63e7",
        "outputId": "95fd6f53-1988-4dee-9d5f-a2717c039afc"
      },
      "execution_count": 8,
      "outputs": [
        {
          "output_type": "stream",
          "name": "stdout",
          "text": [
            "[5, 4, 1]\n",
            "[2, 8, 8]\n",
            "[9, 7, 1]\n"
          ]
        },
        {
          "output_type": "execute_result",
          "data": {
            "text/plain": [
              "24"
            ]
          },
          "metadata": {},
          "execution_count": 8
        }
      ]
    },
    {
      "cell_type": "markdown",
      "source": [
        "Question 5: Final Prices With a Special Discount in a Shop\n",
        "- Given the array prices where prices[i] is the price of the ith item in a shop.\n",
        "- There is a special discount for items in the shop, if you buy the ith item, then you will receive a discount equivalent to prices[j] where j is the minimum index such that j > i and prices[j] <= prices[i], otherwise, you will not receive any discount at all.\n",
        "- Return an array where the ith element is the final price you will pay for the ith item of the shop considering the special discount."
      ],
      "metadata": {
        "id": "bcYM54XFE_S0"
      }
    },
    {
      "cell_type": "code",
      "source": [
        "import random\n",
        "\n",
        "prices = []\n",
        "\n",
        "n = 5\n",
        "\n",
        "for i in range(n):\n",
        "    prices.append(round(random.random()*100,2))\n",
        "\n",
        "def discount(list):\n",
        "    discounted = []\n",
        "    for i in range(len(prices)):\n",
        "        for j in range (i+1, len(prices)):\n",
        "            if prices[j] < prices[i]:\n",
        "                discounted.append(round(prices[i] - prices[j],2))\n",
        "                break\n",
        "            elif j == len(prices)-1:\n",
        "                discounted.append(prices[i])\n",
        "    discounted.append(prices[-1])\n",
        "    return discounted  \n",
        "\n",
        "print(prices)\n",
        "print(discount(prices))\n",
        "\n",
        "\n",
        "    "
      ],
      "metadata": {
        "colab": {
          "base_uri": "https://localhost:8080/"
        },
        "id": "DI332xoN812_",
        "outputId": "713032de-b363-49f1-c120-ebc6372a8685"
      },
      "execution_count": 9,
      "outputs": [
        {
          "output_type": "stream",
          "name": "stdout",
          "text": [
            "[80.41, 80.55, 49.2, 27.34, 85.4]\n",
            "[31.21, 31.35, 21.86, 27.34, 85.4]\n"
          ]
        }
      ]
    },
    {
      "cell_type": "markdown",
      "source": [
        "Question 6: Reverse Words in a String III, by Amazon\n",
        "- Given a string, you need to reverse the order of characters in each word within a sentence while still preserving whitespace and initial word order."
      ],
      "metadata": {
        "id": "YHI1AyFmNvAW"
      }
    },
    {
      "cell_type": "code",
      "source": [
        "def reverse(sentence):\n",
        "    word_list = sentence.split(' ')\n",
        "    rev_word_list = []\n",
        "    for word in word_list:\n",
        "        rev_word_list.append(word[::-1])\n",
        "    return ' '.join(rev_word_list)\n",
        "\n",
        "sntnc = 'This is the sentence'\n",
        "reverse(sntnc)"
      ],
      "metadata": {
        "colab": {
          "base_uri": "https://localhost:8080/",
          "height": 35
        },
        "id": "0FWcnkRBFhTs",
        "outputId": "b288ba13-e784-4a8f-f661-2fc4355aba66"
      },
      "execution_count": 10,
      "outputs": [
        {
          "output_type": "execute_result",
          "data": {
            "text/plain": [
              "'sihT si eht ecnetnes'"
            ],
            "application/vnd.google.colaboratory.intrinsic+json": {
              "type": "string"
            }
          },
          "metadata": {},
          "execution_count": 10
        }
      ]
    },
    {
      "cell_type": "markdown",
      "source": [
        "Question 1: Defanging an IP Address, by Amazon\n",
        "- Given a valid (IPv4) IP address, return a defanged version of that IP address.\n",
        "- A defanged IP address replaces every period “.” with “[.]”."
      ],
      "metadata": {
        "id": "mFRe5UrdChfc"
      }
    },
    {
      "cell_type": "code",
      "source": [
        "def defang(adress):\n",
        "    adr_list = adress.split('.')\n",
        "    return '[.]'.join(adr_list)\n",
        "defang('192.0.2.146')"
      ],
      "metadata": {
        "id": "gbAL2wNYOsBc",
        "colab": {
          "base_uri": "https://localhost:8080/",
          "height": 35
        },
        "outputId": "a359e80f-c95c-48e9-d2f1-eac094ed8198"
      },
      "execution_count": 13,
      "outputs": [
        {
          "output_type": "execute_result",
          "data": {
            "text/plain": [
              "'192[.]0[.]2[.]146'"
            ],
            "application/vnd.google.colaboratory.intrinsic+json": {
              "type": "string"
            }
          },
          "metadata": {},
          "execution_count": 13
        }
      ]
    },
    {
      "cell_type": "code",
      "source": [
        "def defang(adress):\n",
        "    return adress.replace('.', '[.]')\n",
        "defang(adress='192.0.2.146')"
      ],
      "metadata": {
        "colab": {
          "base_uri": "https://localhost:8080/",
          "height": 35
        },
        "id": "wevbTYmOC6OO",
        "outputId": "6bb062f7-135a-4587-a149-4ced9046c1fc"
      },
      "execution_count": 14,
      "outputs": [
        {
          "output_type": "execute_result",
          "data": {
            "text/plain": [
              "'192[.]0[.]2[.]146'"
            ],
            "application/vnd.google.colaboratory.intrinsic+json": {
              "type": "string"
            }
          },
          "metadata": {},
          "execution_count": 14
        }
      ]
    },
    {
      "cell_type": "markdown",
      "source": [
        "Question 2: Fizz Buzz, by Microsoft, Bloomberg\n",
        "- Write a program that prints the number for 1 to 50, for number multiple of 2 print ‘fizz’ instead of a number, for numbers multiple of 3 print ‘buzz’, for numbers which are multiples of both 2 and 3 ‘fizzbuzz.’"
      ],
      "metadata": {
        "id": "9mqs9UVBDyl9"
      }
    },
    {
      "cell_type": "code",
      "source": [
        "for i in range(1, 21):\n",
        "    if i % 2 == 0 and i % 3 == 0:\n",
        "        print('fizzbuzz')\n",
        "    elif i % 2 == 0:\n",
        "        print('fizz')\n",
        "    elif i % 3 == 0:\n",
        "        print('buzz')\n",
        "    else:\n",
        "        print(i)"
      ],
      "metadata": {
        "colab": {
          "base_uri": "https://localhost:8080/"
        },
        "id": "0UDoWZ5BD0Qn",
        "outputId": "3c491b04-fdbf-4f05-f2aa-b4f1e737e5ee"
      },
      "execution_count": 17,
      "outputs": [
        {
          "output_type": "stream",
          "name": "stdout",
          "text": [
            "1\n",
            "fizz\n",
            "buzz\n",
            "fizz\n",
            "5\n",
            "fizzbuzz\n",
            "7\n",
            "fizz\n",
            "buzz\n",
            "fizz\n",
            "11\n",
            "fizzbuzz\n",
            "13\n",
            "fizz\n",
            "buzz\n",
            "fizz\n",
            "17\n",
            "fizzbuzz\n",
            "19\n",
            "fizz\n"
          ]
        }
      ]
    },
    {
      "cell_type": "markdown",
      "source": [
        "Question 3: Palindrome Number, by Google, FB, and MS\n",
        "- Identity all words that are palindromes in the following sentence “To be or not to be a data scientist, this is not a question. Ask your mom, lol.”\n",
        "- If the same word appears multiple times, return the word once (condition 1)\n",
        "- Palindromes: words that return the same result when you read from the beginning to the end or the end to the beginning (condition 2)"
      ],
      "metadata": {
        "id": "PeqcYyyIE5Kc"
      }
    },
    {
      "cell_type": "code",
      "source": [
        "sentence = \"To be or not to be a data scientist, this is not a question. Ask your mom, lol.\"\n",
        "word_list = sentence.split(' ')\n",
        "palindromes = []\n",
        "for word in word_list:\n",
        "    word = word.strip(',')\n",
        "    word = word.strip('.')\n",
        "    word = word.lower()\n",
        "    if word == word[::-1] and word not in palindromes:\n",
        "        palindromes.append(word)\n",
        "palindromes"
      ],
      "metadata": {
        "colab": {
          "base_uri": "https://localhost:8080/"
        },
        "id": "bPwlvUtWEHMy",
        "outputId": "5a75e932-83a4-4db2-fd0c-dd075cff1f7f"
      },
      "execution_count": 29,
      "outputs": [
        {
          "output_type": "execute_result",
          "data": {
            "text/plain": [
              "['a', 'mom', 'lol']"
            ]
          },
          "metadata": {},
          "execution_count": 29
        }
      ]
    },
    {
      "cell_type": "markdown",
      "source": [
        "# Question 4: First Unique Character in a String, by FAANG\n",
        "- Given a string, find the first non-repeating character in it and return its index.\n",
        "- If it doesn’t exist, return -1."
      ],
      "metadata": {
        "id": "sPpfhI2ZHtqV"
      }
    },
    {
      "cell_type": "code",
      "source": [
        "def first_unique(string_):\n",
        "    not_unique_list = []\n",
        "    for i in range(0, len(string_)):\n",
        "        if string_[i] not in string_[i+1:] and string_[i] not in not_unique_list:\n",
        "            return(i)\n",
        "        else:\n",
        "            not_unique_list.append(string_[i])\n",
        "    return(-1)\n",
        "first_unique('AAAbbbc')"
      ],
      "metadata": {
        "colab": {
          "base_uri": "https://localhost:8080/"
        },
        "id": "b43MjkyEH0sP",
        "outputId": "6f392a9e-e344-41cb-d2e3-cacad55a09cc"
      },
      "execution_count": 32,
      "outputs": [
        {
          "output_type": "execute_result",
          "data": {
            "text/plain": [
              "6"
            ]
          },
          "metadata": {},
          "execution_count": 32
        }
      ]
    },
    {
      "cell_type": "code",
      "source": [
        "def f_u(str):\n",
        "    for i in range(len(str)):\n",
        "        if str.count(str[i]) == 1:\n",
        "            return(i)\n",
        "    return (-1)\n",
        "\n",
        "f_u('fantasy function')"
      ],
      "metadata": {
        "colab": {
          "base_uri": "https://localhost:8080/"
        },
        "id": "cZEw8ekrOO1x",
        "outputId": "ade13329-a8dc-49df-8de0-e54f9615e1b2"
      },
      "execution_count": 36,
      "outputs": [
        {
          "output_type": "execute_result",
          "data": {
            "text/plain": [
              "5"
            ]
          },
          "metadata": {},
          "execution_count": 36
        }
      ]
    },
    {
      "cell_type": "markdown",
      "source": [
        "Question 6 Destination City, by Yelp\n",
        "- You are given the array paths, where paths[i] = [cityAi, cityBi] means there exists a direct path going from cityAi to cityBi.\n",
        "- Return the destination city, that is, the city without any path outgoing to another city.\n",
        "- It is guaranteed that the graph of paths forms a line without any loop, therefore, there will be exactly one destination city."
      ],
      "metadata": {
        "id": "OQiLl0XFO0RN"
      }
    },
    {
      "cell_type": "code",
      "source": [
        "def find_destination(paths):\n",
        "    dep = []\n",
        "    dest = []\n",
        "    for path in paths:\n",
        "        dep.append(path[0])\n",
        "        dest.append(path[1])\n",
        "    for dest_city in dest:\n",
        "        if dest_city not in dep:\n",
        "            return(dest_city)\n",
        "\n",
        "find_destination([['c','d'],['b','c'],['d','z'],['w','c']])"
      ],
      "metadata": {
        "colab": {
          "base_uri": "https://localhost:8080/",
          "height": 35
        },
        "id": "U36BFiyOO4AR",
        "outputId": "0c45b8f7-1e34-43a8-9339-d321b2be0c7b"
      },
      "execution_count": 39,
      "outputs": [
        {
          "output_type": "execute_result",
          "data": {
            "text/plain": [
              "'z'"
            ],
            "application/vnd.google.colaboratory.intrinsic+json": {
              "type": "string"
            }
          },
          "metadata": {},
          "execution_count": 39
        }
      ]
    },
    {
      "cell_type": "code",
      "source": [
        "def destination_city(paths):\n",
        "    return (set(path[1] for path in paths) - set(path[0] for path in paths)).pop()\n",
        "\n",
        "destination_city([['c','d'],['b','c'],['d','z'],['w','c']])"
      ],
      "metadata": {
        "colab": {
          "base_uri": "https://localhost:8080/",
          "height": 35
        },
        "id": "B4ADXPg2QLFo",
        "outputId": "0f2d8c00-269c-41e4-c881-1e5f482836c1"
      },
      "execution_count": 43,
      "outputs": [
        {
          "output_type": "execute_result",
          "data": {
            "text/plain": [
              "'z'"
            ],
            "application/vnd.google.colaboratory.intrinsic+json": {
              "type": "string"
            }
          },
          "metadata": {},
          "execution_count": 43
        }
      ]
    },
    {
      "cell_type": "markdown",
      "source": [
        "# String formating"
      ],
      "metadata": {
        "id": "d5fa78m8TfH6"
      }
    },
    {
      "cell_type": "code",
      "source": [
        "# Old Style Formatting\n",
        "age = 25\n",
        "name = 'Bob'\n",
        "'Hello %s. Your age is %i.' % (name, age)"
      ],
      "metadata": {
        "colab": {
          "base_uri": "https://localhost:8080/",
          "height": 35
        },
        "id": "AfUjIs-eUF4M",
        "outputId": "dcc4b0e6-71f5-4809-fef2-5338620b942d"
      },
      "execution_count": 53,
      "outputs": [
        {
          "output_type": "execute_result",
          "data": {
            "text/plain": [
              "'Hello Bob. Your age is 25.'"
            ],
            "application/vnd.google.colaboratory.intrinsic+json": {
              "type": "string"
            }
          },
          "metadata": {},
          "execution_count": 53
        }
      ]
    },
    {
      "cell_type": "code",
      "source": [
        "# New style formatting\n",
        "'Hello {}, your age is {age_}'.format(name, age_=age)"
      ],
      "metadata": {
        "colab": {
          "base_uri": "https://localhost:8080/",
          "height": 35
        },
        "id": "MCPlOjKDUPBa",
        "outputId": "de7cecd8-1daf-4664-bf5a-ae47055cd2b2"
      },
      "execution_count": 55,
      "outputs": [
        {
          "output_type": "execute_result",
          "data": {
            "text/plain": [
              "'Hello Bob, your age is 25'"
            ],
            "application/vnd.google.colaboratory.intrinsic+json": {
              "type": "string"
            }
          },
          "metadata": {},
          "execution_count": 55
        }
      ]
    },
    {
      "cell_type": "code",
      "source": [
        "# f-string\n",
        "f'Hello { name }, your age is { age }'"
      ],
      "metadata": {
        "colab": {
          "base_uri": "https://localhost:8080/",
          "height": 35
        },
        "id": "adeyQzgeVDzZ",
        "outputId": "d02fa747-55fb-44a7-9d2a-fcadc15b0906"
      },
      "execution_count": 56,
      "outputs": [
        {
          "output_type": "execute_result",
          "data": {
            "text/plain": [
              "'Hello Bob, your age is 25'"
            ],
            "application/vnd.google.colaboratory.intrinsic+json": {
              "type": "string"
            }
          },
          "metadata": {},
          "execution_count": 56
        }
      ]
    },
    {
      "cell_type": "markdown",
      "source": [
        "# Set, pop"
      ],
      "metadata": {
        "id": "ZOmevW9KV6CG"
      }
    },
    {
      "cell_type": "code",
      "source": [
        "list1 = [2, 2, 2, 4, 5, 7, 7, 8]\n",
        "list2 = [2, 3, 3, 4, 5, 5, 7]\n",
        "print(set(list1))\n",
        "print(set(list2))\n",
        "print(set(list1) - set(list2))\n",
        "print(set(list1) & set(list2))"
      ],
      "metadata": {
        "colab": {
          "base_uri": "https://localhost:8080/"
        },
        "id": "EuaGtlP4V2qA",
        "outputId": "04afd878-3aa0-4517-fc02-cd46f096c1ca"
      },
      "execution_count": 68,
      "outputs": [
        {
          "output_type": "stream",
          "name": "stdout",
          "text": [
            "{2, 4, 5, 7, 8}\n",
            "{2, 3, 4, 5, 7}\n",
            "{8}\n",
            "{2, 4, 5, 7}\n"
          ]
        }
      ]
    },
    {
      "cell_type": "code",
      "source": [
        "list1 = [2, 2, 2, 4, 5, 7, 7, 8]\n",
        "print(list1.pop(3))\n",
        "print(list1)\n",
        "print(list1.pop())\n",
        "print(list1)"
      ],
      "metadata": {
        "colab": {
          "base_uri": "https://localhost:8080/"
        },
        "id": "0_Bkn_E1WFy2",
        "outputId": "0ea73d25-b74c-4fb9-e6ac-dd315aebb92c"
      },
      "execution_count": 73,
      "outputs": [
        {
          "output_type": "stream",
          "name": "stdout",
          "text": [
            "4\n",
            "[2, 2, 2, 5, 7, 7, 8]\n",
            "8\n",
            "[2, 2, 2, 5, 7, 7]\n"
          ]
        }
      ]
    },
    {
      "cell_type": "code",
      "source": [
        ""
      ],
      "metadata": {
        "id": "GBNL04E7XxUR"
      },
      "execution_count": null,
      "outputs": []
    }
  ]
}