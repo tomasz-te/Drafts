{
  "nbformat": 4,
  "nbformat_minor": 0,
  "metadata": {
    "colab": {
      "name": "Python.ipynb",
      "provenance": [],
      "collapsed_sections": [],
      "authorship_tag": "ABX9TyM2nAxcPoT1ctU7kMDDxVh6"
    },
    "kernelspec": {
      "name": "python3",
      "display_name": "Python 3"
    },
    "language_info": {
      "name": "python"
    }
  },
  "cells": [
    {
      "cell_type": "code",
      "execution_count": 1,
      "metadata": {
        "id": "foDWkjiBvrT8"
      },
      "outputs": [],
      "source": [
        "# Question 1:\n",
        "#- Write a function that reverses the string.\n",
        "#- sentence = “I love programming in Python. How about you?”"
      ]
    },
    {
      "cell_type": "code",
      "source": [
        "def reverse(string):\n",
        "    rev_str = ''\n",
        "    for i in range(len(string)-1, -1, -1):\n",
        "        rev_str += string[i]\n",
        "    return rev_str\n",
        "str = 'I love programming in Python. How about you?'\n",
        "reverse(str)"
      ],
      "metadata": {
        "colab": {
          "base_uri": "https://localhost:8080/",
          "height": 35
        },
        "id": "B1iSKfEzyLiz",
        "outputId": "c1788a0e-dc98-456e-89ec-ff7051e65f51"
      },
      "execution_count": 7,
      "outputs": [
        {
          "output_type": "execute_result",
          "data": {
            "text/plain": [
              "'?uoy tuoba woH .nohtyP ni gnimmargorp evol I'"
            ],
            "application/vnd.google.colaboratory.intrinsic+json": {
              "type": "string"
            }
          },
          "metadata": {},
          "execution_count": 7
        }
      ]
    },
    {
      "cell_type": "code",
      "source": [
        "def reverse(string):\n",
        "    return string[::-1]\n",
        "reverse('I love programming in Python. How about you?')"
      ],
      "metadata": {
        "colab": {
          "base_uri": "https://localhost:8080/",
          "height": 35
        },
        "id": "gx-o9eG8ypI7",
        "outputId": "2247b5e3-446e-4c94-fa1d-b0b76b9505a5"
      },
      "execution_count": 10,
      "outputs": [
        {
          "output_type": "execute_result",
          "data": {
            "text/plain": [
              "'?uoy tuoba woH .nohtyP ni gnimmargorp evol I'"
            ],
            "application/vnd.google.colaboratory.intrinsic+json": {
              "type": "string"
            }
          },
          "metadata": {},
          "execution_count": 10
        }
      ]
    },
    {
      "cell_type": "code",
      "source": [
        "def reverse(string):\n",
        "    return ''.join(string[-i] for i in range(1,len(string)+1))\n",
        "reverse(str)"
      ],
      "metadata": {
        "colab": {
          "base_uri": "https://localhost:8080/",
          "height": 35
        },
        "id": "40VMdyppzkh0",
        "outputId": "606156cd-50a5-42fa-d790-f6cc502b25fb"
      },
      "execution_count": 17,
      "outputs": [
        {
          "output_type": "execute_result",
          "data": {
            "text/plain": [
              "'?uoy tuoba woH .nohtyP ni gnimmargorp evol I'"
            ],
            "application/vnd.google.colaboratory.intrinsic+json": {
              "type": "string"
            }
          },
          "metadata": {},
          "execution_count": 17
        }
      ]
    },
    {
      "cell_type": "markdown",
      "source": [
        "Question 2: Fibonacci Number\n",
        "\n",
        "The Fibonacci numbers, commonly denoted F(n) form a sequence, called the Fibonacci sequence, such that each number is the sum of the two preceding ones, starting from 0 and 1.\n",
        "That is,\n",
        "\n",
        "F(0) = 0, F(1) = 1,\n",
        "\n",
        "F(n) = F(n -1) + F(n-2), for n > 1.\n",
        "\n",
        "Given n, calculate F(n)."
      ],
      "metadata": {
        "id": "eEShhWTz3KN6"
      }
    },
    {
      "cell_type": "code",
      "source": [
        "#Brutal Force\n",
        "def F(n):\n",
        "    if n == 0:\n",
        "        return 0\n",
        "    elif n == 1:\n",
        "        return 1\n",
        "    else:\n",
        "        sum = 0\n",
        "        last = 1\n",
        "        for i in range(1,n+1):\n",
        "            temp = sum\n",
        "            sum += last\n",
        "            last = temp\n",
        "        return sum\n",
        "for i in range(0,10):\n",
        "    print(F(i))"
      ],
      "metadata": {
        "colab": {
          "base_uri": "https://localhost:8080/"
        },
        "id": "tANL16-b3UhC",
        "outputId": "d257ab88-7086-496f-efca-dd574f6fa2b8"
      },
      "execution_count": 28,
      "outputs": [
        {
          "output_type": "stream",
          "name": "stdout",
          "text": [
            "0\n",
            "1\n",
            "1\n",
            "2\n",
            "3\n",
            "5\n",
            "8\n",
            "13\n",
            "21\n",
            "34\n"
          ]
        }
      ]
    },
    {
      "cell_type": "code",
      "source": [
        "# Recursion\n",
        "def F(n):\n",
        "    if n < 2:\n",
        "        return n\n",
        "    else:\n",
        "        return F(n-1) + F(n-2)\n",
        "\n",
        "for i in range(0,10):\n",
        "    print(F(i))"
      ],
      "metadata": {
        "colab": {
          "base_uri": "https://localhost:8080/"
        },
        "id": "qZSizQX543M7",
        "outputId": "ec2d4381-21e5-4684-f5a6-ab6d848841b4"
      },
      "execution_count": 29,
      "outputs": [
        {
          "output_type": "stream",
          "name": "stdout",
          "text": [
            "0\n",
            "1\n",
            "1\n",
            "2\n",
            "3\n",
            "5\n",
            "8\n",
            "13\n",
            "21\n",
            "34\n"
          ]
        }
      ]
    },
    {
      "cell_type": "markdown",
      "source": [
        "Question 3: Check If Two String Arrays are Equivalent, by Facebook\n",
        "- Given two string arrays word1 and word2, return true if the two arrays represent the same string, and false otherwise.\n",
        "- A string is represented by an array if the array elements concatenated in order forms the string."
      ],
      "metadata": {
        "id": "mhzW6ctE6gNL"
      }
    },
    {
      "cell_type": "code",
      "source": [
        "def equality_check(str1, str2):\n",
        "    return ''.join(str1) == ''.join(str2)\n",
        "word1 = ['a', 'bc']\n",
        "word2 = ['ab', 'c']\n",
        "equality_check(word1, word2)"
      ],
      "metadata": {
        "colab": {
          "base_uri": "https://localhost:8080/"
        },
        "id": "PHSnqSEG6mCF",
        "outputId": "7ac5c390-24e1-4ec7-92d0-bc1791de56e6"
      },
      "execution_count": 37,
      "outputs": [
        {
          "output_type": "execute_result",
          "data": {
            "text/plain": [
              "True"
            ]
          },
          "metadata": {},
          "execution_count": 37
        }
      ]
    },
    {
      "cell_type": "markdown",
      "source": [
        "Question 4: Matrix Diagonal Sum, by Adobe\n",
        "- Given a square matrix mat, return the sum of the matrix diagonals.\n",
        "- Only include the sum of all the elements on the primary diagonal and all the elements on the secondary diagonal that are not part of the primary diagonal."
      ],
      "metadata": {
        "id": "v1zOBjF17zU6"
      }
    },
    {
      "cell_type": "code",
      "source": [
        "# Generate some matrix\n",
        "import random\n",
        "\n",
        "def matrix_generator(n):\n",
        "    matrix = [[] for i in range(n)]\n",
        "    for i in range(0,n):\n",
        "        for j in range(0,n):\n",
        "            matrix[i].append(random.randint(0, 9))\n",
        "    return matrix\n",
        "\n",
        "def diagonal_sum(matrix):\n",
        "    n = len(matrix)\n",
        "    sum = 0\n",
        "    for i in range(n):\n",
        "        sum += matrix[i][i]\n",
        "        sum += matrix[i][n-1-i]\n",
        "    if n % 2 == 1:\n",
        "        sum -= matrix[int((n-1)/2)][int((n-1)/2)]\n",
        "    return sum\n",
        "\n",
        "n=3\n",
        "matrix = matrix_generator(n)\n",
        "for i in range(n):\n",
        "    print(matrix[i])\n",
        "\n",
        "diagonal_sum(matrix)"
      ],
      "metadata": {
        "colab": {
          "base_uri": "https://localhost:8080/"
        },
        "id": "mZiUHDny63e7",
        "outputId": "d2384fa2-8b09-4ea4-9e96-8c7cfa8c8034"
      },
      "execution_count": 67,
      "outputs": [
        {
          "output_type": "stream",
          "name": "stdout",
          "text": [
            "[4, 8, 6]\n",
            "[9, 1, 4]\n",
            "[1, 8, 5]\n"
          ]
        },
        {
          "output_type": "execute_result",
          "data": {
            "text/plain": [
              "17"
            ]
          },
          "metadata": {},
          "execution_count": 67
        }
      ]
    },
    {
      "cell_type": "code",
      "source": [
        ""
      ],
      "metadata": {
        "id": "DI332xoN812_"
      },
      "execution_count": null,
      "outputs": []
    }
  ]
}