{
  "nbformat": 4,
  "nbformat_minor": 0,
  "metadata": {
    "colab": {
      "name": "OOP_Python.ipynb",
      "provenance": [],
      "authorship_tag": "ABX9TyOORsljrYLO82KzfsBfRoHG"
    },
    "kernelspec": {
      "name": "python3",
      "display_name": "Python 3"
    },
    "language_info": {
      "name": "python"
    }
  },
  "cells": [
    {
      "cell_type": "code",
      "execution_count": 34,
      "metadata": {
        "colab": {
          "base_uri": "https://localhost:8080/"
        },
        "id": "5_jCNctJYdKk",
        "outputId": "e6039541-26f1-430c-87d5-21e1a6058f40"
      },
      "outputs": [
        {
          "output_type": "stream",
          "name": "stdout",
          "text": [
            "0.8\n",
            "0.8\n"
          ]
        }
      ],
      "source": [
        "class Item:\n",
        "    pay_rate = 0.8\n",
        "    \n",
        "    def __init__(self, name: str, price: float, quantity=0):\n",
        "        assert price > 0, f\"Price {price} is not greater then zero\"\n",
        "        assert quantity >= 0        \n",
        "        self.name = name\n",
        "        self.price = price\n",
        "        self.quantity = quantity\n",
        "        \n",
        "    def calculate_total_price(self):\n",
        "        return self.price * self.quantity\n",
        "\n",
        "item1 = Item('Phone', 100, 1)\n",
        "item1.quantity = 5\n",
        "item2 = Item('Laptop', 1000, 3)\n",
        "item2.has_numpad = False\n",
        "\n",
        "print(Item.pay_rate)\n",
        "print(item1.pay_rate)\n"
      ]
    },
    {
      "cell_type": "code",
      "source": [
        ""
      ],
      "metadata": {
        "id": "DB1LUtCsjvwK"
      },
      "execution_count": null,
      "outputs": []
    }
  ]
}