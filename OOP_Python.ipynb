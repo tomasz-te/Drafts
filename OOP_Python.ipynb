{
  "nbformat": 4,
  "nbformat_minor": 0,
  "metadata": {
    "colab": {
      "name": "OOP_Python.ipynb",
      "provenance": [],
      "collapsed_sections": [],
      "authorship_tag": "ABX9TyOuXU4/VP2ca+wlS2k9lD81"
    },
    "kernelspec": {
      "name": "python3",
      "display_name": "Python 3"
    },
    "language_info": {
      "name": "python"
    }
  },
  "cells": [
    {
      "cell_type": "code",
      "execution_count": 48,
      "metadata": {
        "colab": {
          "base_uri": "https://localhost:8080/"
        },
        "id": "5_jCNctJYdKk",
        "outputId": "80aea2df-7fef-4ec8-9ba2-3e6a9ca70e31"
      },
      "outputs": [
        {
          "output_type": "stream",
          "name": "stdout",
          "text": [
            "0.8\n",
            "0.8\n",
            "{'__module__': '__main__', 'pay_rate': 0.8, 'all': [Item('Phone', 100, 5), Item('Laptop', 1000, 3)], '__init__': <function Item.__init__ at 0x7fa9f994f950>, 'calculate_total_price': <function Item.calculate_total_price at 0x7fa9f994fe60>, 'apply_discount': <function Item.apply_discount at 0x7fa9f9918f80>, '__repr__': <function Item.__repr__ at 0x7fa9f9918050>, '__dict__': <attribute '__dict__' of 'Item' objects>, '__weakref__': <attribute '__weakref__' of 'Item' objects>, '__doc__': None}\n",
            "{'name': 'Phone', 'price': 100, 'quantity': 5}\n",
            "80.0\n",
            "700.0\n",
            "[Item('Phone', 80.0, 5), Item('Laptop', 700.0, 3)]\n",
            "Phone\n",
            "Laptop\n"
          ]
        }
      ],
      "source": [
        "# https://www.youtube.com/watch?v=Ej_02ICOIgs&ab_channel=freeCodeCamp.org\n",
        "\n",
        "class Item:\n",
        "\n",
        "    pay_rate = 0.8\n",
        "    all = []\n",
        "\n",
        "    def __init__(self, name: str, price: float, quantity=0):\n",
        "        # Run validation for arguments\n",
        "        assert price > 0, f\"Price {price} is not greater then zero\"\n",
        "        assert quantity >= 0   \n",
        "\n",
        "        # Assign to self object\n",
        "        self.name = name\n",
        "        self.price = price\n",
        "        self.quantity = quantity\n",
        "\n",
        "        # Actions to execute\n",
        "        Item.all.append(self)\n",
        "        \n",
        "    def calculate_total_price(self):\n",
        "        return self.price * self.quantity\n",
        "\n",
        "    def apply_discount(self):\n",
        "        self.price = self.price * self.pay_rate\n",
        "\n",
        "    def __repr__(self):\n",
        "        return f\"Item('{self.name}', {self.price}, {self.quantity})\"\n",
        "\n",
        "item1 = Item('Phone', 100, 1)\n",
        "item1.quantity = 5\n",
        "item2 = Item('Laptop', 1000, 3)\n",
        "item2.has_numpad = False\n",
        "\n",
        "print(Item.pay_rate)\n",
        "print(item1.pay_rate)\n",
        "print(Item.__dict__) # All attributes for Class level\n",
        "print(item1.__dict__) # All attributes for instance level\n",
        "item1.apply_discount()\n",
        "print(item1.price)\n",
        "\n",
        "item2.pay_rate = 0.7\n",
        "item2.apply_discount()\n",
        "print(item2.price)\n",
        "\n",
        "print(Item.all)\n",
        "for instance in Item.all:\n",
        "    print(instance.name)"
      ]
    },
    {
      "cell_type": "code",
      "source": [
        ""
      ],
      "metadata": {
        "id": "Or1tTtS2wX3h"
      },
      "execution_count": null,
      "outputs": []
    }
  ]
}