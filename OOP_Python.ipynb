{
  "nbformat": 4,
  "nbformat_minor": 0,
  "metadata": {
    "colab": {
      "name": "OOP_Python.ipynb",
      "provenance": [],
      "authorship_tag": "ABX9TyNJ5lB/QyrDtUkwqpJ/S1Op"
    },
    "kernelspec": {
      "name": "python3",
      "display_name": "Python 3"
    },
    "language_info": {
      "name": "python"
    }
  },
  "cells": [
    {
      "cell_type": "code",
      "execution_count": 1,
      "metadata": {
        "id": "5_jCNctJYdKk"
      },
      "outputs": [],
      "source": [
        "class Item:\n",
        "    pass\n",
        "\n",
        "item1 = Item()\n",
        "item1.name = 'Phone'\n",
        "item1.price = 100\n",
        "item1.quantity = 5"
      ]
    }
  ]
}