{
  "nbformat": 4,
  "nbformat_minor": 0,
  "metadata": {
    "colab": {
      "name": "Python2.ipynb",
      "provenance": [],
      "authorship_tag": "ABX9TyPNz+eZCm5V6rMs9yc/JVSb",
      "include_colab_link": true
    },
    "kernelspec": {
      "name": "python3",
      "display_name": "Python 3"
    },
    "language_info": {
      "name": "python"
    }
  },
  "cells": [
    {
      "cell_type": "markdown",
      "metadata": {
        "id": "view-in-github",
        "colab_type": "text"
      },
      "source": [
        "<a href=\"https://colab.research.google.com/github/tomasz-te/Drafts/blob/main/Python2.ipynb\" target=\"_parent\"><img src=\"https://colab.research.google.com/assets/colab-badge.svg\" alt=\"Open In Colab\"/></a>"
      ]
    },
    {
      "cell_type": "code",
      "execution_count": 2,
      "metadata": {
        "colab": {
          "base_uri": "https://localhost:8080/"
        },
        "id": "Xr64dtfloSZc",
        "outputId": "32b164f4-a2dc-41b7-d6f8-e46f504ab2eb"
      },
      "outputs": [
        {
          "output_type": "stream",
          "name": "stdout",
          "text": [
            "a is of type: <class 'int'>\n",
            "b is of type: <class 'float'>\n",
            "c is of type: <class 'complex'>\n"
          ]
        }
      ],
      "source": [
        "# 1.Write a program to demonstrate different number data types in Python.\n",
        "\n",
        "a = 1\n",
        "b = 1.\n",
        "c = 1+1j\n",
        "print('a is of type:', type(a))\n",
        "print('b is of type:', type(b))\n",
        "print('c is of type:', type(c))"
      ]
    },
    {
      "cell_type": "code",
      "source": [
        "# 2.Write a program to perform different Arithmetic Operations on numbers in Python.\n",
        "\n",
        "def calc(a, b, operator):\n",
        "    if operator == '*':\n",
        "        return a * b\n",
        "    if operator == '/':\n",
        "        return a / b\n",
        "    if operator == '+':\n",
        "        return a + b\n",
        "    if operator == '-':\n",
        "        return a - b\n",
        "    if operator == '**':\n",
        "        return a ** b\n",
        "    if operator == '//':\n",
        "        return a // b\n",
        "    if operator == '%':\n",
        "        return a % b\n",
        "a = int(input('First number: '))\n",
        "b = int(input('Second number: '))\n",
        "c = input('What operiation? (*, **, /, +, -, //, %):')\n",
        "calc(a,b,c)"
      ],
      "metadata": {
        "colab": {
          "base_uri": "https://localhost:8080/"
        },
        "id": "8hbFIdSqogit",
        "outputId": "668dea7c-166d-44d1-e536-03caf00e1bd9"
      },
      "execution_count": 9,
      "outputs": [
        {
          "name": "stdout",
          "output_type": "stream",
          "text": [
            "First number: 88\n",
            "Second number: 11\n",
            "What operiation? (*, **, /, +, -, //, %):%\n"
          ]
        },
        {
          "output_type": "execute_result",
          "data": {
            "text/plain": [
              "0"
            ]
          },
          "metadata": {},
          "execution_count": 9
        }
      ]
    },
    {
      "cell_type": "code",
      "source": [
        "#3. Write a program to create, concatenate and print a string and accessing sub-string from a given string.\n",
        "\n",
        "a = input('Enter 1st string:')\n",
        "b = input('Enter 2nd string:')\n",
        "c = a + b\n",
        "print(c)\n",
        "print(c[3:6])"
      ],
      "metadata": {
        "colab": {
          "base_uri": "https://localhost:8080/"
        },
        "id": "ePWzM1sCqUvW",
        "outputId": "193d8cb3-1bfe-49c2-8825-4b81e8ed77e6"
      },
      "execution_count": 11,
      "outputs": [
        {
          "output_type": "stream",
          "name": "stdout",
          "text": [
            "Enter 1st string:Lalka\n",
            "Enter 2nd string:Pralka\n",
            "LalkaPralka\n",
            "kaP\n"
          ]
        }
      ]
    },
    {
      "cell_type": "code",
      "source": [
        "# 4. Write a python script to print the current date in the following format “Sun May 29 02:26:23 IST 2017”\n",
        "\n",
        "import time\n",
        "\n",
        "now = time.localtime()\n",
        "now = time.strftime('%a %b %d %X %Z %Y',now)\n",
        "print(now)"
      ],
      "metadata": {
        "colab": {
          "base_uri": "https://localhost:8080/"
        },
        "id": "u-uLL1miueBx",
        "outputId": "d4d8320a-0336-453e-969f-c7eebdae927b"
      },
      "execution_count": 31,
      "outputs": [
        {
          "output_type": "stream",
          "name": "stdout",
          "text": [
            "Sat May 28 03:48:52 UTC 2022\n"
          ]
        }
      ]
    },
    {
      "cell_type": "code",
      "source": [
        "# 5. Write a program to create, append, and remove lists in python.\n",
        "\n",
        "lst = []\n",
        "lst.append(3)\n",
        "lst.append(5)\n",
        "lst.append(7)\n",
        "print(lst)\n",
        "lst.remove(5)\n",
        "print(lst)\n",
        "lst.extend([8,9])\n",
        "print(lst)\n",
        "del lst[0:2]\n",
        "print(lst)\n",
        "del lst"
      ],
      "metadata": {
        "colab": {
          "base_uri": "https://localhost:8080/"
        },
        "id": "pD1qS8hKu4rn",
        "outputId": "4cd3e43a-382d-4a32-e91f-fc96ccf21df1"
      },
      "execution_count": 39,
      "outputs": [
        {
          "output_type": "stream",
          "name": "stdout",
          "text": [
            "[3, 5, 7]\n",
            "[3, 7]\n",
            "[3, 7, 8, 9]\n",
            "[8, 9]\n"
          ]
        }
      ]
    },
    {
      "cell_type": "code",
      "source": [
        "# 6. Write a program to demonstrate working with tuples in python.\n",
        "tpl = (12., 34, 45, 'aaa')\n",
        "print(tpl)\n",
        "tpl = 'a', 12, 34.3\n",
        "print(tpl)\n",
        "x, y, z = tpl\n",
        "print(x, y, z)\n",
        "tpl = ('Dog')\n",
        "print(type(tpl))\n",
        "tpl = ('Dog',)\n",
        "print(type(tpl))\n",
        "tpl = 'Dog',\n",
        "print(type(tpl))"
      ],
      "metadata": {
        "colab": {
          "base_uri": "https://localhost:8080/"
        },
        "id": "Ht6dmmSS2i6Z",
        "outputId": "a3719e69-8e28-4478-8f61-38003ee8807b"
      },
      "execution_count": 50,
      "outputs": [
        {
          "output_type": "stream",
          "name": "stdout",
          "text": [
            "(12.0, 34, 45, 'aaa')\n",
            "('a', 12, 34.3)\n",
            "a 12 34.3\n",
            "<class 'str'>\n",
            "<class 'tuple'>\n",
            "<class 'tuple'>\n"
          ]
        }
      ]
    },
    {
      "cell_type": "code",
      "source": [
        "# 7. Write a program to demonstrate working with dictionaries in python.\n",
        "dct = {}\n",
        "dct = {1:\"Dog\", 2:\"Cat\", 'Mouse':[1, 2, 3]}\n",
        "print(dct[1], dct['Mouse'])\n",
        "print(dct.get(2))\n",
        "print(dct.get(444))\n",
        "dct = dict([('City','Bangkok'), ('Population',17000000)])\n",
        "dct['City']"
      ],
      "metadata": {
        "colab": {
          "base_uri": "https://localhost:8080/",
          "height": 87
        },
        "id": "inQ0HKRW3mS_",
        "outputId": "97593c8d-bf56-4f40-8053-3f72001905b0"
      },
      "execution_count": 62,
      "outputs": [
        {
          "output_type": "stream",
          "name": "stdout",
          "text": [
            "Dog [1, 2, 3]\n",
            "Cat\n",
            "None\n"
          ]
        },
        {
          "output_type": "execute_result",
          "data": {
            "text/plain": [
              "'Bangkok'"
            ],
            "application/vnd.google.colaboratory.intrinsic+json": {
              "type": "string"
            }
          },
          "metadata": {},
          "execution_count": 62
        }
      ]
    },
    {
      "cell_type": "code",
      "source": [
        "# 8. Write a python program to find largest of three numbers.\n",
        "lst = []\n",
        "lst.append(int(input('A: ')))\n",
        "lst.append(int(input('B: ')))\n",
        "lst.append(int(input('C: ')))\n",
        "\n",
        "max = lst[0]\n",
        "for number in lst:\n",
        "    if number > max:\n",
        "        max = number\n",
        "print(max)"
      ],
      "metadata": {
        "colab": {
          "base_uri": "https://localhost:8080/"
        },
        "id": "edS9kqDX42wN",
        "outputId": "2172c118-be0a-4bdd-f7d8-a5c51f11fc1d"
      },
      "execution_count": 63,
      "outputs": [
        {
          "output_type": "stream",
          "name": "stdout",
          "text": [
            "A: 25\n",
            "B: 37\n",
            "C: 0\n",
            "37\n"
          ]
        }
      ]
    },
    {
      "cell_type": "code",
      "source": [
        "# 9. Write a Python program to convert temperatures to and from Celsius, Fahrenheit. [ Formula: c = (f-32)(5/9)]\n",
        "\n",
        "cf = input('Type \"c\" to convert from Celcius to Fahrenheit. Type \"f\" to convert from Fahrenheit to Celscius: ').lower()\n",
        "temp = float(input('Enter temperature to convert: '))\n",
        "if cf == 'c':\n",
        "    print(f\"{temp} Celcius = {(temp * 1.8) + 32} Fahrenheit\")\n",
        "elif cf == 'f':\n",
        "    print(f\"{temp} Fahrenheit = {round((temp - 32) * 5 / 9, 2)} Celcius\")\n",
        "else:\n",
        "    print('Wrong input')"
      ],
      "metadata": {
        "colab": {
          "base_uri": "https://localhost:8080/"
        },
        "id": "BPouWMg_6zBe",
        "outputId": "603fd506-6ad9-45f3-9048-046b645c7b0f"
      },
      "execution_count": 67,
      "outputs": [
        {
          "output_type": "stream",
          "name": "stdout",
          "text": [
            "Type \"c\" to convert from Celcius to Fahrenheit. Type \"f\" to convert from Fahrenheit to Celscius: f\n",
            "Enter temperature to convert: 10\n",
            "10.0 Fahrenheit = -12.22 Celcius\n"
          ]
        }
      ]
    },
    {
      "cell_type": "code",
      "source": [
        ""
      ],
      "metadata": {
        "id": "scXf7v1r88bX"
      },
      "execution_count": null,
      "outputs": []
    }
  ]
}