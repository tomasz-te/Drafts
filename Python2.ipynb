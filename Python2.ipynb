{
  "nbformat": 4,
  "nbformat_minor": 0,
  "metadata": {
    "colab": {
      "name": "Python2.ipynb",
      "provenance": [],
      "collapsed_sections": [],
      "authorship_tag": "ABX9TyM1fdmbWQVUxdbcOYeJodlE",
      "include_colab_link": true
    },
    "kernelspec": {
      "name": "python3",
      "display_name": "Python 3"
    },
    "language_info": {
      "name": "python"
    }
  },
  "cells": [
    {
      "cell_type": "markdown",
      "metadata": {
        "id": "view-in-github",
        "colab_type": "text"
      },
      "source": [
        "<a href=\"https://colab.research.google.com/github/tomasz-te/Drafts/blob/main/Python2.ipynb\" target=\"_parent\"><img src=\"https://colab.research.google.com/assets/colab-badge.svg\" alt=\"Open In Colab\"/></a>"
      ]
    },
    {
      "cell_type": "code",
      "execution_count": null,
      "metadata": {
        "colab": {
          "base_uri": "https://localhost:8080/"
        },
        "id": "Xr64dtfloSZc",
        "outputId": "32b164f4-a2dc-41b7-d6f8-e46f504ab2eb"
      },
      "outputs": [
        {
          "output_type": "stream",
          "name": "stdout",
          "text": [
            "a is of type: <class 'int'>\n",
            "b is of type: <class 'float'>\n",
            "c is of type: <class 'complex'>\n"
          ]
        }
      ],
      "source": [
        "# 1.Write a program to demonstrate different number data types in Python.\n",
        "\n",
        "a = 1\n",
        "b = 1.\n",
        "c = 1+1j\n",
        "print('a is of type:', type(a))\n",
        "print('b is of type:', type(b))\n",
        "print('c is of type:', type(c))"
      ]
    },
    {
      "cell_type": "code",
      "source": [
        "# 2.Write a program to perform different Arithmetic Operations on numbers in Python.\n",
        "\n",
        "def calc(a, b, operator):\n",
        "    if operator == '*':\n",
        "        return a * b\n",
        "    if operator == '/':\n",
        "        return a / b\n",
        "    if operator == '+':\n",
        "        return a + b\n",
        "    if operator == '-':\n",
        "        return a - b\n",
        "    if operator == '**':\n",
        "        return a ** b\n",
        "    if operator == '//':\n",
        "        return a // b\n",
        "    if operator == '%':\n",
        "        return a % b\n",
        "a = int(input('First number: '))\n",
        "b = int(input('Second number: '))\n",
        "c = input('What operiation? (*, **, /, +, -, //, %):')\n",
        "calc(a,b,c)"
      ],
      "metadata": {
        "colab": {
          "base_uri": "https://localhost:8080/"
        },
        "id": "8hbFIdSqogit",
        "outputId": "668dea7c-166d-44d1-e536-03caf00e1bd9"
      },
      "execution_count": null,
      "outputs": [
        {
          "name": "stdout",
          "output_type": "stream",
          "text": [
            "First number: 88\n",
            "Second number: 11\n",
            "What operiation? (*, **, /, +, -, //, %):%\n"
          ]
        },
        {
          "output_type": "execute_result",
          "data": {
            "text/plain": [
              "0"
            ]
          },
          "metadata": {},
          "execution_count": 9
        }
      ]
    },
    {
      "cell_type": "code",
      "source": [
        "#3. Write a program to create, concatenate and print a string and accessing sub-string from a given string.\n",
        "\n",
        "a = input('Enter 1st string:')\n",
        "b = input('Enter 2nd string:')\n",
        "c = a + b\n",
        "print(c)\n",
        "print(c[3:6])"
      ],
      "metadata": {
        "colab": {
          "base_uri": "https://localhost:8080/"
        },
        "id": "ePWzM1sCqUvW",
        "outputId": "193d8cb3-1bfe-49c2-8825-4b81e8ed77e6"
      },
      "execution_count": null,
      "outputs": [
        {
          "output_type": "stream",
          "name": "stdout",
          "text": [
            "Enter 1st string:Lalka\n",
            "Enter 2nd string:Pralka\n",
            "LalkaPralka\n",
            "kaP\n"
          ]
        }
      ]
    },
    {
      "cell_type": "code",
      "source": [
        "# 4. Write a python script to print the current date in the following format “Sun May 29 02:26:23 IST 2017”\n",
        "\n",
        "import time\n",
        "\n",
        "now = time.localtime()\n",
        "now = time.strftime('%a %b %d %X %Z %Y',now)\n",
        "print(now)"
      ],
      "metadata": {
        "colab": {
          "base_uri": "https://localhost:8080/"
        },
        "id": "u-uLL1miueBx",
        "outputId": "d4d8320a-0336-453e-969f-c7eebdae927b"
      },
      "execution_count": null,
      "outputs": [
        {
          "output_type": "stream",
          "name": "stdout",
          "text": [
            "Sat May 28 03:48:52 UTC 2022\n"
          ]
        }
      ]
    },
    {
      "cell_type": "code",
      "source": [
        "# 5. Write a program to create, append, and remove lists in python.\n",
        "\n",
        "lst = []\n",
        "lst.append(3)\n",
        "lst.append(5)\n",
        "lst.append(7)\n",
        "print(lst)\n",
        "lst.remove(5)\n",
        "print(lst)\n",
        "lst.extend([8,9])\n",
        "print(lst)\n",
        "del lst[0:2]\n",
        "print(lst)\n",
        "del lst"
      ],
      "metadata": {
        "colab": {
          "base_uri": "https://localhost:8080/"
        },
        "id": "pD1qS8hKu4rn",
        "outputId": "4cd3e43a-382d-4a32-e91f-fc96ccf21df1"
      },
      "execution_count": null,
      "outputs": [
        {
          "output_type": "stream",
          "name": "stdout",
          "text": [
            "[3, 5, 7]\n",
            "[3, 7]\n",
            "[3, 7, 8, 9]\n",
            "[8, 9]\n"
          ]
        }
      ]
    },
    {
      "cell_type": "code",
      "source": [
        "# 6. Write a program to demonstrate working with tuples in python.\n",
        "tpl = (12., 34, 45, 'aaa')\n",
        "print(tpl)\n",
        "tpl = 'a', 12, 34.3\n",
        "print(tpl)\n",
        "x, y, z = tpl\n",
        "print(x, y, z)\n",
        "tpl = ('Dog')\n",
        "print(type(tpl))\n",
        "tpl = ('Dog',)\n",
        "print(type(tpl))\n",
        "tpl = 'Dog',\n",
        "print(type(tpl))"
      ],
      "metadata": {
        "colab": {
          "base_uri": "https://localhost:8080/"
        },
        "id": "Ht6dmmSS2i6Z",
        "outputId": "a3719e69-8e28-4478-8f61-38003ee8807b"
      },
      "execution_count": null,
      "outputs": [
        {
          "output_type": "stream",
          "name": "stdout",
          "text": [
            "(12.0, 34, 45, 'aaa')\n",
            "('a', 12, 34.3)\n",
            "a 12 34.3\n",
            "<class 'str'>\n",
            "<class 'tuple'>\n",
            "<class 'tuple'>\n"
          ]
        }
      ]
    },
    {
      "cell_type": "code",
      "source": [
        "# 7. Write a program to demonstrate working with dictionaries in python.\n",
        "dct = {}\n",
        "dct = {1:\"Dog\", 2:\"Cat\", 'Mouse':[1, 2, 3]}\n",
        "print(dct[1], dct['Mouse'])\n",
        "print(dct.get(2))\n",
        "print(dct.get(444))\n",
        "dct = dict([('City','Bangkok'), ('Population',17000000)])\n",
        "dct['City']"
      ],
      "metadata": {
        "colab": {
          "base_uri": "https://localhost:8080/",
          "height": 87
        },
        "id": "inQ0HKRW3mS_",
        "outputId": "97593c8d-bf56-4f40-8053-3f72001905b0"
      },
      "execution_count": null,
      "outputs": [
        {
          "output_type": "stream",
          "name": "stdout",
          "text": [
            "Dog [1, 2, 3]\n",
            "Cat\n",
            "None\n"
          ]
        },
        {
          "output_type": "execute_result",
          "data": {
            "text/plain": [
              "'Bangkok'"
            ],
            "application/vnd.google.colaboratory.intrinsic+json": {
              "type": "string"
            }
          },
          "metadata": {},
          "execution_count": 62
        }
      ]
    },
    {
      "cell_type": "code",
      "source": [
        "# 8. Write a python program to find largest of three numbers.\n",
        "lst = []\n",
        "lst.append(int(input('A: ')))\n",
        "lst.append(int(input('B: ')))\n",
        "lst.append(int(input('C: ')))\n",
        "\n",
        "max = lst[0]\n",
        "for number in lst:\n",
        "    if number > max:\n",
        "        max = number\n",
        "print(max)"
      ],
      "metadata": {
        "colab": {
          "base_uri": "https://localhost:8080/"
        },
        "id": "edS9kqDX42wN",
        "outputId": "2172c118-be0a-4bdd-f7d8-a5c51f11fc1d"
      },
      "execution_count": null,
      "outputs": [
        {
          "output_type": "stream",
          "name": "stdout",
          "text": [
            "A: 25\n",
            "B: 37\n",
            "C: 0\n",
            "37\n"
          ]
        }
      ]
    },
    {
      "cell_type": "code",
      "source": [
        "# 9. Write a Python program to convert temperatures to and from Celsius, Fahrenheit. [ Formula: c = (f-32)(5/9)]\n",
        "\n",
        "cf = input('Type \"c\" to convert from Celcius to Fahrenheit. Type \"f\" to convert from Fahrenheit to Celscius: ').lower()\n",
        "temp = float(input('Enter temperature to convert: '))\n",
        "if cf == 'c':\n",
        "    print(f\"{temp} Celcius = {(temp * 1.8) + 32} Fahrenheit\")\n",
        "elif cf == 'f':\n",
        "    print(f\"{temp} Fahrenheit = {round((temp - 32) * 5 / 9, 2)} Celcius\")\n",
        "else:\n",
        "    print('Wrong input')"
      ],
      "metadata": {
        "colab": {
          "base_uri": "https://localhost:8080/"
        },
        "id": "BPouWMg_6zBe",
        "outputId": "603fd506-6ad9-45f3-9048-046b645c7b0f"
      },
      "execution_count": null,
      "outputs": [
        {
          "output_type": "stream",
          "name": "stdout",
          "text": [
            "Type \"c\" to convert from Celcius to Fahrenheit. Type \"f\" to convert from Fahrenheit to Celscius: f\n",
            "Enter temperature to convert: 10\n",
            "10.0 Fahrenheit = -12.22 Celcius\n"
          ]
        }
      ]
    },
    {
      "cell_type": "code",
      "source": [
        "# 10. Write a Python program to construct the following pattern, using a nested for loop\n",
        "# *\n",
        "# **\n",
        "# ***\n",
        "# ****\n",
        "# *****\n",
        "# ****\n",
        "# ***\n",
        "# **\n",
        "# *\n",
        "n = 5\n",
        "for i in range(n):\n",
        "    for j in range(i):\n",
        "        print('*', end='')\n",
        "    print('')\n",
        "for i in range(n, 0, -1):\n",
        "    for j in range(i):\n",
        "        print('*', end='')\n",
        "    print('')"
      ],
      "metadata": {
        "id": "scXf7v1r88bX",
        "colab": {
          "base_uri": "https://localhost:8080/"
        },
        "outputId": "cc5aaf37-268c-4988-d0e5-bfbdf8931a38"
      },
      "execution_count": null,
      "outputs": [
        {
          "output_type": "stream",
          "name": "stdout",
          "text": [
            "\n",
            "*\n",
            "**\n",
            "***\n",
            "****\n",
            "*****\n",
            "****\n",
            "***\n",
            "**\n",
            "*\n"
          ]
        }
      ]
    },
    {
      "cell_type": "code",
      "source": [
        "# 11. Write a Python script that prints prime numbers less than 20.\n",
        "\n",
        "n = 20\n",
        "primes = []\n",
        "\n",
        "for i in range(n):\n",
        "    if i > 1:\n",
        "        for j in range(2, i):\n",
        "            if i % j == 0:\n",
        "                break\n",
        "        else:\n",
        "            primes.append(i)\n",
        "\n",
        "print(primes)\n",
        "\n"
      ],
      "metadata": {
        "colab": {
          "base_uri": "https://localhost:8080/"
        },
        "id": "5GmrBSkH-41H",
        "outputId": "b26db745-f7ef-4911-b853-aa63107b4ff5"
      },
      "execution_count": null,
      "outputs": [
        {
          "output_type": "stream",
          "name": "stdout",
          "text": [
            "[2, 3, 5, 7, 11, 13, 17, 19]\n"
          ]
        }
      ]
    },
    {
      "cell_type": "code",
      "source": [
        "# 12. Write a python program to find factorial of a number using Recursion.\n",
        "\n",
        "def factorial(n):\n",
        "    if n < 1:\n",
        "        print('Sorry. Number has to be bigger then 0')\n",
        "    elif n == 1:\n",
        "        return 1\n",
        "    elif n > 1:\n",
        "        return factorial(n-1) * n\n",
        "\n",
        "print(factorial(5))"
      ],
      "metadata": {
        "colab": {
          "base_uri": "https://localhost:8080/"
        },
        "id": "PK7PfA9nB-IT",
        "outputId": "a477b400-4b28-4459-e122-e239f8f5303f"
      },
      "execution_count": null,
      "outputs": [
        {
          "output_type": "stream",
          "name": "stdout",
          "text": [
            "120\n"
          ]
        }
      ]
    },
    {
      "cell_type": "code",
      "source": [
        "# 13. Write a program that accepts the lengths of three sides of a triangle \n",
        "# as inputs. The program output should indicate whether or not the triangle \n",
        "# is a right triangle (Recall from the Pythagorean Theorem that in a right \n",
        "# triangle, the square of one side equals the sum of the squares of the \n",
        "# other two sides).\n",
        "\n",
        "a = float(input('a = '))\n",
        "b = float(input('b = '))\n",
        "c = float(input('c = '))\n",
        "\n",
        "if (a**2 == b**2 + c**2) or (b**2 == c**2 + a**2) or (c**2 == a**2 + b**2):\n",
        "    print('This is a right triangle')\n",
        "else:\n",
        "    print('This is not a right traingle')"
      ],
      "metadata": {
        "colab": {
          "base_uri": "https://localhost:8080/"
        },
        "id": "JM3qvUW7G_MM",
        "outputId": "76e3ec15-88ad-4197-89de-ed0e2b62fee0"
      },
      "execution_count": null,
      "outputs": [
        {
          "output_type": "stream",
          "name": "stdout",
          "text": [
            "a = 3\n",
            "b = 4\n",
            "c = 5\n",
            "This is a right triangle\n"
          ]
        }
      ]
    },
    {
      "cell_type": "code",
      "source": [
        "# 14. Write a python program to define a module to find Fibonacci Numbers and import the module to another program.\n",
        "\n",
        "# fibbonaci.py\n",
        "def fib(max):\n",
        "    fibs = [1]\n",
        "    j = 1\n",
        "    while j <= max:\n",
        "        fibs.append(j)\n",
        "        j = fibs[-1] + fibs[-2]\n",
        "    return(fibs)\n",
        "\n",
        "print(fib(50))\n",
        "\n",
        "# from fibonnaci import fib\n",
        "# or\n",
        "# import fibbonaci\n",
        "# ........"
      ],
      "metadata": {
        "colab": {
          "base_uri": "https://localhost:8080/"
        },
        "id": "XC-L1TCOInaX",
        "outputId": "625883cd-b3e8-4497-c234-7121f334e20b"
      },
      "execution_count": null,
      "outputs": [
        {
          "output_type": "stream",
          "name": "stdout",
          "text": [
            "[1, 1, 2, 3, 5, 8, 13, 21, 34]\n"
          ]
        }
      ]
    },
    {
      "cell_type": "code",
      "source": [
        "# 16. Write a script named copyfile.py. This script should prompt the user \n",
        "# for the names of two text files. The contents of the first file should be \n",
        "# input and written to the second file.\n",
        "\n",
        "file1 = input('Path to file you want to copy: ')\n",
        "file2 = input('Path to the new file: ')\n",
        "\n",
        "f1 = open(file1, 'r')\n",
        "f2 = open(file2, 'w+')\n",
        "\n",
        "content = f1.read()\n",
        "f2.write(content)\n",
        "\n",
        "f1.close()\n",
        "f2.close()"
      ],
      "metadata": {
        "id": "gwgxGSlcJwp0"
      },
      "execution_count": null,
      "outputs": []
    },
    {
      "cell_type": "code",
      "source": [
        "# 17. Write a program that inputs a text file. The program should print all of \n",
        "# the unique words in the file in alphabetical order.\n",
        "\n",
        "sentence = \"Write a program that inputs a text file. The program should print all of the unique words in the file in alphabetical order.\"\n",
        "\n",
        "lst = sentence.split(' ')\n",
        "for i in range(len(lst)):\n",
        "    lst[i] = lst[i].lower()\n",
        "    lst[i] = lst[i].strip(',.')\n",
        "    \n",
        "set(lst)"
      ],
      "metadata": {
        "colab": {
          "base_uri": "https://localhost:8080/"
        },
        "id": "_XlWv2PRfyeb",
        "outputId": "98ea5964-4eae-409f-ac80-d959d7650a5f"
      },
      "execution_count": 15,
      "outputs": [
        {
          "output_type": "execute_result",
          "data": {
            "text/plain": [
              "{'a',\n",
              " 'all',\n",
              " 'alphabetical',\n",
              " 'file',\n",
              " 'in',\n",
              " 'inputs',\n",
              " 'of',\n",
              " 'order',\n",
              " 'print',\n",
              " 'program',\n",
              " 'should',\n",
              " 'text',\n",
              " 'that',\n",
              " 'the',\n",
              " 'unique',\n",
              " 'words',\n",
              " 'write'}"
            ]
          },
          "metadata": {},
          "execution_count": 15
        }
      ]
    },
    {
      "cell_type": "code",
      "source": [
        "# 18. Write a Python class to convert an integer to a roman numeral.\n",
        "\n",
        "def int_to_roman(n: int):\n",
        "    symbols = ['M', 'CM', 'D', 'CD,', 'C', 'XC', 'L', 'XL', 'X', 'IX', 'V', 'IV', 'I']\n",
        "    values = [1000, 900, 500, 400, 100, 90, 50, 40, 10, 9, 5, 4, 1]\n",
        "    roman = \"\"\n",
        "    while n > 0:\n",
        "        for i in range(len(values)):\n",
        "            if n // values[i] != 0:\n",
        "                roman += symbols[i]\n",
        "                n -= values[i]\n",
        "                break\n",
        "    return roman\n",
        "\n",
        "print(int_to_roman(151))"
      ],
      "metadata": {
        "colab": {
          "base_uri": "https://localhost:8080/"
        },
        "id": "Re5A6DxpgRQi",
        "outputId": "b369dd3a-8cfc-4cc7-ec73-f990d6447f2d"
      },
      "execution_count": 22,
      "outputs": [
        {
          "output_type": "stream",
          "name": "stdout",
          "text": [
            "CLI\n"
          ]
        }
      ]
    },
    {
      "cell_type": "code",
      "source": [
        "# 19. Write a Python class to implement pow (x, n)\n",
        "\n",
        "def power(x, n):\n",
        "    outcome = x\n",
        "    for i in range(n-1):\n",
        "        outcome *= x\n",
        "    return outcome\n",
        "\n",
        "print(power(5,3))"
      ],
      "metadata": {
        "colab": {
          "base_uri": "https://localhost:8080/"
        },
        "id": "dX-2KhV_i2TT",
        "outputId": "a1ac7c8e-4744-4aeb-ae1b-a3459179a8ee"
      },
      "execution_count": 30,
      "outputs": [
        {
          "output_type": "stream",
          "name": "stdout",
          "text": [
            "125\n"
          ]
        }
      ]
    },
    {
      "cell_type": "code",
      "source": [
        "# 29. Program to accept the strings which contains all vowels\n",
        "\n",
        "vowels = ['a', 'e', 'i', 'o', 'u', 'y']\n",
        "\n",
        "string = input('Enter word: ').lower()\n",
        "for char in string:\n",
        "    if char not in vowels:\n",
        "        print('Not accepted!')\n",
        "        break\n",
        "else:\n",
        "    print('Accepted!')"
      ],
      "metadata": {
        "colab": {
          "base_uri": "https://localhost:8080/"
        },
        "id": "rXnFxNOp28eq",
        "outputId": "81044a85-d3db-4edb-94c4-8245909b7a19"
      },
      "execution_count": 34,
      "outputs": [
        {
          "output_type": "stream",
          "name": "stdout",
          "text": [
            "Enter word: ouuU\n",
            "Accepted!\n"
          ]
        }
      ]
    },
    {
      "cell_type": "code",
      "source": [
        "# 30. Convert Snake case to Pascal case\n",
        "string = 'lets_change_this_string'\n",
        "string = string.title()\n",
        "string = string.replace('_','')\n",
        "print(string)\n"
      ],
      "metadata": {
        "colab": {
          "base_uri": "https://localhost:8080/"
        },
        "id": "V5bsfPqS33N3",
        "outputId": "a3af9078-0195-4a81-a403-e7371ed8de7c"
      },
      "execution_count": 42,
      "outputs": [
        {
          "output_type": "stream",
          "name": "stdout",
          "text": [
            "LetsChangeThisString\n"
          ]
        }
      ]
    },
    {
      "cell_type": "code",
      "source": [
        ""
      ],
      "metadata": {
        "id": "GakDHBe34PAQ"
      },
      "execution_count": null,
      "outputs": []
    }
  ]
}