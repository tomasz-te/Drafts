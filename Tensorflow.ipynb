{
  "nbformat": 4,
  "nbformat_minor": 0,
  "metadata": {
    "colab": {
      "name": "Tensorflow.ipynb",
      "provenance": [],
      "collapsed_sections": [],
      "authorship_tag": "ABX9TyPNjDRo56vTaMETH+mv6eFR"
    },
    "kernelspec": {
      "name": "python3",
      "display_name": "Python 3"
    },
    "language_info": {
      "name": "python"
    }
  },
  "cells": [
    {
      "cell_type": "code",
      "execution_count": null,
      "metadata": {
        "id": "nynfcP6sclSX"
      },
      "outputs": [],
      "source": [
        "import numpy as np\n",
        "from random import randint\n",
        "from sklearn.utils import shuffle\n",
        "from sklearn.preprocessing import MinMaxScaler"
      ]
    },
    {
      "cell_type": "code",
      "source": [
        "train_labels = []\n",
        "train_samples = []"
      ],
      "metadata": {
        "id": "xSik_3ndczE1"
      },
      "execution_count": null,
      "outputs": []
    },
    {
      "cell_type": "code",
      "source": [
        "for i in range(50):\n",
        "  random_younger = randint(13,64)\n",
        "  train_samples.append(random_younger)\n",
        "  train_labels.append(1)\n",
        "\n",
        "  random_older = randint(65,100)\n",
        "  train_samples.append(random_older)\n",
        "  train_labels.append(0)"
      ],
      "metadata": {
        "id": "4bSE0Mtvc7zj"
      },
      "execution_count": null,
      "outputs": []
    },
    {
      "cell_type": "code",
      "source": [
        "for i in range(1000):\n",
        "  random_younger = randint(13,64)\n",
        "  train_samples.append(random_younger)\n",
        "  train_labels.append(0)\n",
        "\n",
        "  random_older = randint(65,100)\n",
        "  train_samples.append(random_older)\n",
        "  train_labels.append(1)"
      ],
      "metadata": {
        "id": "5NtFfiTQdv5K"
      },
      "execution_count": null,
      "outputs": []
    },
    {
      "cell_type": "code",
      "source": [
        "train_labels = np.array(train_labels)"
      ],
      "metadata": {
        "id": "t7zM9Daiencc"
      },
      "execution_count": null,
      "outputs": []
    },
    {
      "cell_type": "code",
      "source": [
        "train_samples = np.array(train_samples)"
      ],
      "metadata": {
        "id": "Tq-tASLZexfI"
      },
      "execution_count": null,
      "outputs": []
    },
    {
      "cell_type": "code",
      "source": [
        "train_labels, train_samples = shuffle(train_labels, train_samples)"
      ],
      "metadata": {
        "id": "YcO0is87e6ds"
      },
      "execution_count": null,
      "outputs": []
    },
    {
      "cell_type": "code",
      "source": [
        "scaler = MinMaxScaler(feature_range=(0,1))\n",
        "scaled_train_samples = scaler.fit_transform(train_samples.reshape(-1,1))"
      ],
      "metadata": {
        "id": "Mf1Ijw3qeth1"
      },
      "execution_count": null,
      "outputs": []
    },
    {
      "cell_type": "code",
      "source": [
        "scaled_train_samples"
      ],
      "metadata": {
        "colab": {
          "base_uri": "https://localhost:8080/"
        },
        "id": "LvOUtZYjeukT",
        "outputId": "61af0e91-5961-4578-a1fa-4cb8c0dd1af7"
      },
      "execution_count": null,
      "outputs": [
        {
          "output_type": "execute_result",
          "data": {
            "text/plain": [
              "array([[0.6091954 ],\n",
              "       [0.71264368],\n",
              "       [0.17241379],\n",
              "       ...,\n",
              "       [0.27586207],\n",
              "       [0.72413793],\n",
              "       [0.65517241]])"
            ]
          },
          "metadata": {},
          "execution_count": 17
        }
      ]
    },
    {
      "cell_type": "code",
      "source": [
        "import tensorflow as tf\n",
        "from tensorflow import keras\n",
        "from tensorflow.keras.models import Sequential\n",
        "from tensorflow.keras.layers import Activation, Dense\n",
        "from tensorflow.keras.optimizers import Adam\n",
        "from tensorflow.keras.metrics import categorical_crossentropy"
      ],
      "metadata": {
        "id": "82n11ZCbgt3e"
      },
      "execution_count": null,
      "outputs": []
    },
    {
      "cell_type": "code",
      "source": [
        "model = Sequential([\n",
        "    Dense(units=16, input_shape=(1,), activation='relu'),\n",
        "    Dense(units=32, activation='relu'),\n",
        "    Dense(units=2, activation='softmax')                    \n",
        "])"
      ],
      "metadata": {
        "id": "bps2DeGWhIz-"
      },
      "execution_count": null,
      "outputs": []
    },
    {
      "cell_type": "code",
      "source": [
        "model.summary()"
      ],
      "metadata": {
        "colab": {
          "base_uri": "https://localhost:8080/"
        },
        "id": "XvPpfDOEjcoH",
        "outputId": "3ef6e521-d1dc-4232-d148-8a7685c64533"
      },
      "execution_count": null,
      "outputs": [
        {
          "output_type": "stream",
          "name": "stdout",
          "text": [
            "Model: \"sequential\"\n",
            "_________________________________________________________________\n",
            " Layer (type)                Output Shape              Param #   \n",
            "=================================================================\n",
            " dense (Dense)               (None, 16)                32        \n",
            "                                                                 \n",
            " dense_1 (Dense)             (None, 32)                544       \n",
            "                                                                 \n",
            " dense_2 (Dense)             (None, 2)                 66        \n",
            "                                                                 \n",
            "=================================================================\n",
            "Total params: 642\n",
            "Trainable params: 642\n",
            "Non-trainable params: 0\n",
            "_________________________________________________________________\n"
          ]
        }
      ]
    },
    {
      "cell_type": "code",
      "source": [
        "model.compile(optimizer=Adam(learning_rate=0.0001), loss='sparse_categorical_crossentropy', metrics=['accuracy'])"
      ],
      "metadata": {
        "id": "13sLavW6jeFb"
      },
      "execution_count": null,
      "outputs": []
    },
    {
      "cell_type": "code",
      "source": [
        "model.fit(x=scaled_train_samples, y=train_labels, batch_size=10, epochs=30, shuffle=True, verbose=2)"
      ],
      "metadata": {
        "colab": {
          "base_uri": "https://localhost:8080/"
        },
        "id": "Fftj33vzkPTr",
        "outputId": "ec312e0d-e3c5-4cc4-fd64-ef365ed9ddb8"
      },
      "execution_count": null,
      "outputs": [
        {
          "output_type": "stream",
          "name": "stdout",
          "text": [
            "Epoch 1/30\n",
            "210/210 - 1s - loss: 0.6513 - accuracy: 0.5476 - 726ms/epoch - 3ms/step\n",
            "Epoch 2/30\n",
            "210/210 - 0s - loss: 0.6246 - accuracy: 0.6148 - 205ms/epoch - 976us/step\n",
            "Epoch 3/30\n",
            "210/210 - 0s - loss: 0.5985 - accuracy: 0.6748 - 202ms/epoch - 962us/step\n",
            "Epoch 4/30\n",
            "210/210 - 0s - loss: 0.5721 - accuracy: 0.7229 - 188ms/epoch - 897us/step\n",
            "Epoch 5/30\n",
            "210/210 - 0s - loss: 0.5447 - accuracy: 0.7524 - 204ms/epoch - 972us/step\n",
            "Epoch 6/30\n",
            "210/210 - 0s - loss: 0.5164 - accuracy: 0.7876 - 188ms/epoch - 897us/step\n",
            "Epoch 7/30\n",
            "210/210 - 0s - loss: 0.4879 - accuracy: 0.8062 - 199ms/epoch - 950us/step\n",
            "Epoch 8/30\n",
            "210/210 - 0s - loss: 0.4603 - accuracy: 0.8405 - 204ms/epoch - 972us/step\n",
            "Epoch 9/30\n",
            "210/210 - 0s - loss: 0.4338 - accuracy: 0.8576 - 188ms/epoch - 895us/step\n",
            "Epoch 10/30\n",
            "210/210 - 0s - loss: 0.4090 - accuracy: 0.8733 - 191ms/epoch - 909us/step\n",
            "Epoch 11/30\n",
            "210/210 - 0s - loss: 0.3868 - accuracy: 0.8829 - 199ms/epoch - 947us/step\n",
            "Epoch 12/30\n",
            "210/210 - 0s - loss: 0.3669 - accuracy: 0.8895 - 188ms/epoch - 897us/step\n",
            "Epoch 13/30\n",
            "210/210 - 0s - loss: 0.3502 - accuracy: 0.9105 - 196ms/epoch - 935us/step\n",
            "Epoch 14/30\n",
            "210/210 - 0s - loss: 0.3355 - accuracy: 0.9148 - 207ms/epoch - 985us/step\n",
            "Epoch 15/30\n",
            "210/210 - 0s - loss: 0.3231 - accuracy: 0.9167 - 187ms/epoch - 888us/step\n",
            "Epoch 16/30\n",
            "210/210 - 0s - loss: 0.3128 - accuracy: 0.9195 - 199ms/epoch - 945us/step\n",
            "Epoch 17/30\n",
            "210/210 - 0s - loss: 0.3041 - accuracy: 0.9248 - 192ms/epoch - 912us/step\n",
            "Epoch 18/30\n",
            "210/210 - 0s - loss: 0.2971 - accuracy: 0.9229 - 198ms/epoch - 941us/step\n",
            "Epoch 19/30\n",
            "210/210 - 0s - loss: 0.2909 - accuracy: 0.9295 - 203ms/epoch - 966us/step\n",
            "Epoch 20/30\n",
            "210/210 - 0s - loss: 0.2858 - accuracy: 0.9271 - 188ms/epoch - 894us/step\n",
            "Epoch 21/30\n",
            "210/210 - 0s - loss: 0.2816 - accuracy: 0.9367 - 197ms/epoch - 937us/step\n",
            "Epoch 22/30\n",
            "210/210 - 0s - loss: 0.2780 - accuracy: 0.9348 - 195ms/epoch - 928us/step\n",
            "Epoch 23/30\n",
            "210/210 - 0s - loss: 0.2750 - accuracy: 0.9362 - 199ms/epoch - 949us/step\n",
            "Epoch 24/30\n",
            "210/210 - 0s - loss: 0.2724 - accuracy: 0.9371 - 206ms/epoch - 982us/step\n",
            "Epoch 25/30\n",
            "210/210 - 0s - loss: 0.2695 - accuracy: 0.9395 - 185ms/epoch - 880us/step\n",
            "Epoch 26/30\n",
            "210/210 - 0s - loss: 0.2682 - accuracy: 0.9343 - 193ms/epoch - 920us/step\n",
            "Epoch 27/30\n",
            "210/210 - 0s - loss: 0.2663 - accuracy: 0.9367 - 185ms/epoch - 880us/step\n",
            "Epoch 28/30\n",
            "210/210 - 0s - loss: 0.2646 - accuracy: 0.9376 - 194ms/epoch - 922us/step\n",
            "Epoch 29/30\n",
            "210/210 - 0s - loss: 0.2632 - accuracy: 0.9410 - 201ms/epoch - 957us/step\n",
            "Epoch 30/30\n",
            "210/210 - 0s - loss: 0.2617 - accuracy: 0.9386 - 190ms/epoch - 906us/step\n"
          ]
        },
        {
          "output_type": "execute_result",
          "data": {
            "text/plain": [
              "<keras.callbacks.History at 0x7f0f8ede9050>"
            ]
          },
          "metadata": {},
          "execution_count": 23
        }
      ]
    }
  ]
}